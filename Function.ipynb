{
  "nbformat": 4,
  "nbformat_minor": 0,
  "metadata": {
    "colab": {
      "provenance": []
    },
    "kernelspec": {
      "name": "python3",
      "display_name": "Python 3"
    },
    "language_info": {
      "name": "python"
    }
  },
  "cells": [
    {
      "cell_type": "markdown",
      "source": [
        "#Theory questions:\n",
        "1. What is the difference butween a function and a method in python?\n",
        "\n",
        "ans. a funcation is a block of code that runs when called. it is independent and a method is a function inside a class that oprates on the object of the class.\n",
        "\n",
        "example."
      ],
      "metadata": {
        "id": "oRgfs31FSmFe"
      }
    },
    {
      "cell_type": "code",
      "source": [
        "def func():\n",
        "    print(\"I am a function\")\n",
        "\n",
        "class MyClass:\n",
        "    def method(self):\n",
        "        print(\"I am a method\")"
      ],
      "metadata": {
        "id": "hH7HAwHXTJRp"
      },
      "execution_count": 1,
      "outputs": []
    },
    {
      "cell_type": "markdown",
      "source": [
        "2. Explain the concept of function arguments and parameters in Python.\n",
        "\n",
        "Ans. Parameters are placeholders in function definitions and Arguments are actual values passed when calling a function.\n",
        "\n",
        "Example."
      ],
      "metadata": {
        "id": "DcX_v6BwTcZz"
      }
    },
    {
      "cell_type": "code",
      "source": [
        "def greet(name):\n",
        "    print(\"Hello\", name)\n",
        "\n",
        "greet(\"Alice\")"
      ],
      "metadata": {
        "colab": {
          "base_uri": "https://localhost:8080/"
        },
        "id": "9XDKXeSKTb04",
        "outputId": "43522637-29f3-4579-9550-c5c3334e40dc"
      },
      "execution_count": 2,
      "outputs": [
        {
          "output_type": "stream",
          "name": "stdout",
          "text": [
            "Hello Alice\n"
          ]
        }
      ]
    },
    {
      "cell_type": "markdown",
      "source": [
        "3. What are the different ways to define and call a function in Python?\n",
        "\n",
        "Ans. we have many different ways to define and call a function in python\n",
        "\n",
        "Example."
      ],
      "metadata": {
        "id": "h7rEgMLPTqzR"
      }
    },
    {
      "cell_type": "code",
      "source": [
        "#using def:\n",
        "\n",
        "def add(a, b):\n",
        "    return a + b\n",
        "print(add(2, 3))"
      ],
      "metadata": {
        "colab": {
          "base_uri": "https://localhost:8080/"
        },
        "id": "_GCNiEMzTbrk",
        "outputId": "7ea925e7-2e5a-4f51-f519-8c1b9254f82a"
      },
      "execution_count": 3,
      "outputs": [
        {
          "output_type": "stream",
          "name": "stdout",
          "text": [
            "5\n"
          ]
        }
      ]
    },
    {
      "cell_type": "code",
      "source": [
        "#using lamda:\n",
        "\n",
        "add = lambda a, b: a + b\n",
        "print(add(2, 3))"
      ],
      "metadata": {
        "colab": {
          "base_uri": "https://localhost:8080/"
        },
        "id": "8Nl6t75WUQU4",
        "outputId": "d8a6f203-db8e-4015-a75d-03db8df70072"
      },
      "execution_count": 4,
      "outputs": [
        {
          "output_type": "stream",
          "name": "stdout",
          "text": [
            "5\n"
          ]
        }
      ]
    },
    {
      "cell_type": "markdown",
      "source": [
        "4. What is the purpose of the return statement in a Python function?\n",
        "\n",
        "Ans. return sends a result from a function.\n",
        "\n",
        "Example."
      ],
      "metadata": {
        "id": "-8zYuw8RUTcX"
      }
    },
    {
      "cell_type": "code",
      "source": [
        "def square(num):\n",
        "    return num * num\n",
        "print(square(4))"
      ],
      "metadata": {
        "colab": {
          "base_uri": "https://localhost:8080/"
        },
        "id": "f7RZamGoUcUY",
        "outputId": "12622214-58cf-4e66-c5d6-cf5fc1f8153e"
      },
      "execution_count": 5,
      "outputs": [
        {
          "output_type": "stream",
          "name": "stdout",
          "text": [
            "16\n"
          ]
        }
      ]
    },
    {
      "cell_type": "markdown",
      "source": [
        "5. What are iterators in Python and how do they differ from iterables?\n",
        "\n",
        "Ans. An iterable is a collection (list, tuple,etc) that can be looped over and an iteratoris an object that fetches elements one by one using next().\n",
        "\n",
        "Example.\n",
        "\n"
      ],
      "metadata": {
        "id": "Z3z_uOvAUgps"
      }
    },
    {
      "cell_type": "code",
      "source": [
        "my_list = [1, 2, 3]\n",
        "iterator = iter(my_list)\n",
        "print(next(iterator))"
      ],
      "metadata": {
        "colab": {
          "base_uri": "https://localhost:8080/"
        },
        "id": "I2zSyV2yUly4",
        "outputId": "ddbb6447-aa4b-4bb1-eafc-918eb1a304dc"
      },
      "execution_count": 6,
      "outputs": [
        {
          "output_type": "stream",
          "name": "stdout",
          "text": [
            "1\n"
          ]
        }
      ]
    },
    {
      "cell_type": "markdown",
      "source": [
        "6. Explain the concept of generators in Python and how they are defined.\n",
        "\n",
        "Ans. Generators produce values one at a time using yield.\n",
        "\n",
        "Example.\n",
        "\n"
      ],
      "metadata": {
        "id": "i_EKakpuUtKt"
      }
    },
    {
      "cell_type": "code",
      "source": [
        "def my_gen():\n",
        "    yield 1\n",
        "    yield 2\n",
        "g = my_gen()\n",
        "print(next(g))"
      ],
      "metadata": {
        "colab": {
          "base_uri": "https://localhost:8080/"
        },
        "id": "PumbvGGqUzHT",
        "outputId": "10aebeb7-934b-4e21-debf-06987a2e5ac1"
      },
      "execution_count": 7,
      "outputs": [
        {
          "output_type": "stream",
          "name": "stdout",
          "text": [
            "1\n"
          ]
        }
      ]
    },
    {
      "cell_type": "markdown",
      "source": [
        "7. What are the advantages of using generators over regular functions?\n",
        "\n",
        "Ans. They save memory because they generate values on demand and They are useful for large datasets."
      ],
      "metadata": {
        "id": "uEp7rHAQU33N"
      }
    },
    {
      "cell_type": "markdown",
      "source": [
        "8. What is a lambda function in Python and when is it typically used?\n",
        "\n",
        "Ans. A lambda function is a short, one-line function without a name. It is used for simple operations and is defined using the lambda keyword.\n",
        "\n",
        "Example."
      ],
      "metadata": {
        "id": "HwkdpLDSU-G7"
      }
    },
    {
      "cell_type": "code",
      "source": [
        "square = lambda x: x * x\n",
        "print(square(5))"
      ],
      "metadata": {
        "colab": {
          "base_uri": "https://localhost:8080/"
        },
        "id": "dlLA94gXVEOQ",
        "outputId": "8116b041-9c41-43d8-f007-5849d5f2adcf"
      },
      "execution_count": 8,
      "outputs": [
        {
          "output_type": "stream",
          "name": "stdout",
          "text": [
            "25\n"
          ]
        }
      ]
    },
    {
      "cell_type": "markdown",
      "source": [
        "9. Explain the purpose and usage of the map() function in Python\n",
        "\n",
        "Ans. The map() function is used to apply a function to each item in an iterable (like a list or tuple) and return a new iterable with the modified values.\n",
        "\n",
        "Example."
      ],
      "metadata": {
        "id": "TlQsFONaVK0N"
      }
    },
    {
      "cell_type": "code",
      "source": [
        "nums = [1, 2, 3]\n",
        "squared = list(map(lambda x: x*x, nums))\n",
        "print(squared)"
      ],
      "metadata": {
        "colab": {
          "base_uri": "https://localhost:8080/"
        },
        "id": "ZpzZh8JSVQ8q",
        "outputId": "de74514a-a4b4-4959-af05-0eab82703649"
      },
      "execution_count": 9,
      "outputs": [
        {
          "output_type": "stream",
          "name": "stdout",
          "text": [
            "[1, 4, 9]\n"
          ]
        }
      ]
    },
    {
      "cell_type": "markdown",
      "source": [
        "10. What is the difference between map(), reduce(), and filter() functions in Python?\n",
        "\n",
        "Ans. map uses for tranceforms each element and filter uses to keep elementsthat much condition and reduse uses for reduse all velues to one result.\n",
        "\n",
        "Example."
      ],
      "metadata": {
        "id": "jKH584OXVUrt"
      }
    },
    {
      "cell_type": "code",
      "source": [
        "from functools import reduce\n",
        "\n",
        "nums = [1, 2, 3, 4]\n",
        "\n",
        "print(list(map(lambda x: x*x, nums)))"
      ],
      "metadata": {
        "colab": {
          "base_uri": "https://localhost:8080/"
        },
        "id": "TZ5JY-hQVdae",
        "outputId": "7b8a6255-3966-4663-84ec-d6e926ce288d"
      },
      "execution_count": 10,
      "outputs": [
        {
          "output_type": "stream",
          "name": "stdout",
          "text": [
            "[1, 4, 9, 16]\n"
          ]
        }
      ]
    },
    {
      "cell_type": "code",
      "source": [
        "from functools import reduce\n",
        "\n",
        "nums = [1, 2, 3, 4]\n",
        "\n",
        "print(list(filter(lambda x: x % 2 == 0, nums)))"
      ],
      "metadata": {
        "colab": {
          "base_uri": "https://localhost:8080/"
        },
        "id": "dJYVk7EcVwHm",
        "outputId": "8a1bdd7f-6653-4971-9782-b46556239b42"
      },
      "execution_count": 11,
      "outputs": [
        {
          "output_type": "stream",
          "name": "stdout",
          "text": [
            "[2, 4]\n"
          ]
        }
      ]
    },
    {
      "cell_type": "code",
      "source": [
        "from functools import reduce\n",
        "\n",
        "nums = [1, 2, 3, 4]\n",
        "\n",
        "print(reduce(lambda x, y: x + y, nums))"
      ],
      "metadata": {
        "colab": {
          "base_uri": "https://localhost:8080/"
        },
        "id": "yxzAY8qvV3tL",
        "outputId": "5e267a2b-4175-49ed-cc81-5965781fc4a1"
      },
      "execution_count": 12,
      "outputs": [
        {
          "output_type": "stream",
          "name": "stdout",
          "text": [
            "10\n"
          ]
        }
      ]
    },
    {
      "cell_type": "markdown",
      "source": [
        "11. Using pen & Paper write the internal mechanism for sum operation using  reduce function on this given list:[47,11,42,13];\n",
        "\n",
        "Ans. ![WhatsApp Image 2025-04-01 at 10.51.11 PM.jpeg](data:image/jpeg;base64,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)"
      ],
      "metadata": {
        "id": "5fIVZyq4WIJV"
      }
    },
    {
      "cell_type": "code",
      "source": [
        "from functools import reduce\n",
        "numbers = [47, 11, 42, 13]\n",
        "total = reduce(lambda x, y: x + y, numbers)\n",
        "print(total)"
      ],
      "metadata": {
        "colab": {
          "base_uri": "https://localhost:8080/"
        },
        "id": "sRrrEHJ9Yb3Z",
        "outputId": "adbc772e-b4da-45c4-fd29-ee06289e0895"
      },
      "execution_count": 13,
      "outputs": [
        {
          "output_type": "stream",
          "name": "stdout",
          "text": [
            "113\n"
          ]
        }
      ]
    },
    {
      "cell_type": "markdown",
      "source": [
        "#Practical questions:\n",
        "\n",
        "1. Write a Python function that takes a list of numbers as input and returns the sum of all even numbers in the list"
      ],
      "metadata": {
        "id": "DRsDWb_RYguF"
      }
    },
    {
      "cell_type": "code",
      "source": [
        "def sum_even_numbers(lst):\n",
        "    return sum(num for num in lst if num % 2 == 0)\n",
        "\n",
        "print(sum_even_numbers([1, 2, 3, 4, 5, 6]))"
      ],
      "metadata": {
        "colab": {
          "base_uri": "https://localhost:8080/"
        },
        "id": "EiTPL39RYsud",
        "outputId": "03bdf97c-42e3-4746-f694-ed13fb32b6b1"
      },
      "execution_count": 14,
      "outputs": [
        {
          "output_type": "stream",
          "name": "stdout",
          "text": [
            "12\n"
          ]
        }
      ]
    },
    {
      "cell_type": "markdown",
      "source": [
        "2. Create a Python function that accepts a string and returns the reverse of that string."
      ],
      "metadata": {
        "id": "tWOU0SYTYyVv"
      }
    },
    {
      "cell_type": "code",
      "source": [
        "def reverse_string(s):\n",
        "    return s[::-1]\n",
        "\n",
        "print(reverse_string(\"hello\"))"
      ],
      "metadata": {
        "colab": {
          "base_uri": "https://localhost:8080/"
        },
        "id": "fwMWW4H8Y19E",
        "outputId": "6ae1cfc5-6d0a-4691-dcc5-42c1993752df"
      },
      "execution_count": 15,
      "outputs": [
        {
          "output_type": "stream",
          "name": "stdout",
          "text": [
            "olleh\n"
          ]
        }
      ]
    },
    {
      "cell_type": "markdown",
      "source": [
        "3. Implement a Python function that takes a list of integers and returns a new list containing the squares of each numbers"
      ],
      "metadata": {
        "id": "fnMPd20fY6uG"
      }
    },
    {
      "cell_type": "code",
      "source": [
        "def square_list(lst):\n",
        "    return [num ** 2 for num in lst]\n",
        "\n",
        "print(square_list([1, 2, 3, 4]))"
      ],
      "metadata": {
        "colab": {
          "base_uri": "https://localhost:8080/"
        },
        "id": "cA1Xfe16Y-Yz",
        "outputId": "48a170ec-d649-4f7c-91d4-2a96cbaf26ac"
      },
      "execution_count": 16,
      "outputs": [
        {
          "output_type": "stream",
          "name": "stdout",
          "text": [
            "[1, 4, 9, 16]\n"
          ]
        }
      ]
    },
    {
      "cell_type": "markdown",
      "source": [
        "4. Write a Python function that checks if a given number is prime or not from 1 to 200."
      ],
      "metadata": {
        "id": "SP1Vts6uZAdt"
      }
    },
    {
      "cell_type": "code",
      "source": [
        "def is_prime(n):\n",
        "    if n < 2:\n",
        "        return False\n",
        "    for i in range(2, int(n ** 0.5) + 1):\n",
        "        if n % i == 0:\n",
        "            return False\n",
        "    return True\n",
        "\n",
        "print(is_prime(17))"
      ],
      "metadata": {
        "colab": {
          "base_uri": "https://localhost:8080/"
        },
        "id": "2ZDn7dl7ZEJt",
        "outputId": "2ef4e556-e922-4062-f4bd-da7cf3da56bc"
      },
      "execution_count": 17,
      "outputs": [
        {
          "output_type": "stream",
          "name": "stdout",
          "text": [
            "True\n"
          ]
        }
      ]
    },
    {
      "cell_type": "markdown",
      "source": [
        "5. Create an iterator class in Python that generates the Fibonacci sequence up to a specified number of terms."
      ],
      "metadata": {
        "id": "XavNtXGlZIiv"
      }
    },
    {
      "cell_type": "code",
      "source": [
        "class Fibonacci:\n",
        "    def __init__(self, terms):\n",
        "        self.terms = terms\n",
        "        self.a, self.b = 0, 1\n",
        "        self.count = 0\n",
        "\n",
        "    def __iter__(self):\n",
        "        return self\n",
        "\n",
        "    def __next__(self):\n",
        "        if self.count >= self.terms:\n",
        "            raise StopIteration\n",
        "        self.count += 1\n",
        "        fib = self.a\n",
        "        self.a, self.b = self.b, self.a + self.b\n",
        "        return fib\n",
        "\n",
        "fib_seq = Fibonacci(10)\n",
        "print(list(fib_seq))"
      ],
      "metadata": {
        "colab": {
          "base_uri": "https://localhost:8080/"
        },
        "id": "wAAr4u_AZMya",
        "outputId": "8050b7ac-0971-4d66-d7bb-39d6d98d128c"
      },
      "execution_count": 18,
      "outputs": [
        {
          "output_type": "stream",
          "name": "stdout",
          "text": [
            "[0, 1, 1, 2, 3, 5, 8, 13, 21, 34]\n"
          ]
        }
      ]
    },
    {
      "cell_type": "markdown",
      "source": [
        "6. Write a generator function in Python that yields the powers of 2 up to a given exponent.\n"
      ],
      "metadata": {
        "id": "CMMEM6RoZVWW"
      }
    },
    {
      "cell_type": "code",
      "source": [
        "def powers_of_two(exponent):\n",
        "    for i in range(exponent + 1):\n",
        "        yield 2 ** i\n",
        "\n",
        "print(list(powers_of_two(5)))"
      ],
      "metadata": {
        "colab": {
          "base_uri": "https://localhost:8080/"
        },
        "id": "ryrq0UtQZYxL",
        "outputId": "5d494004-af73-47b0-a6fe-3fc6bf0f2423"
      },
      "execution_count": 19,
      "outputs": [
        {
          "output_type": "stream",
          "name": "stdout",
          "text": [
            "[1, 2, 4, 8, 16, 32]\n"
          ]
        }
      ]
    },
    {
      "cell_type": "markdown",
      "source": [
        "7. Implement a generator function that reads a file line by line and yields each line as a string."
      ],
      "metadata": {
        "id": "UB-RGoU3ZdZ4"
      }
    },
    {
      "cell_type": "code",
      "source": [
        "def file_reader(file_path):\n",
        "    with open(file_path, 'r') as file:\n",
        "        for line in file:\n",
        "            yield line.strip()"
      ],
      "metadata": {
        "id": "Fl211jv8Zvj3"
      },
      "execution_count": 20,
      "outputs": []
    },
    {
      "cell_type": "markdown",
      "source": [
        "8. Use a lambda function in Python to sort a list of tuples based on the second element of each tuple."
      ],
      "metadata": {
        "id": "gFVyeisEZzh0"
      }
    },
    {
      "cell_type": "code",
      "source": [
        "sort_tuples = lambda lst: sorted(lst, key=lambda x: x[1])\n",
        "\n",
        "\n",
        "data = [(1, 3), (2, 1), (3, 2)]\n",
        "print(sort_tuples(data))"
      ],
      "metadata": {
        "colab": {
          "base_uri": "https://localhost:8080/"
        },
        "id": "WaaEbzUOZ8xj",
        "outputId": "c975532f-287b-4e77-f911-2eab664b31c1"
      },
      "execution_count": 21,
      "outputs": [
        {
          "output_type": "stream",
          "name": "stdout",
          "text": [
            "[(2, 1), (3, 2), (1, 3)]\n"
          ]
        }
      ]
    },
    {
      "cell_type": "markdown",
      "source": [
        "9. Write a Python program that uses map() to convert a list of temperatures from Celsius to Fahrenheit."
      ],
      "metadata": {
        "id": "6G_0atUtZ_8T"
      }
    },
    {
      "cell_type": "code",
      "source": [
        "def celsius_to_fahrenheit(lst):\n",
        "    return list(map(lambda c: (c * 9/5) + 32, lst))\n",
        "\n",
        "print(celsius_to_fahrenheit([0, 100, -40]))"
      ],
      "metadata": {
        "colab": {
          "base_uri": "https://localhost:8080/"
        },
        "id": "AT78eKUoaE_e",
        "outputId": "55e450cd-5cbd-427d-d3b3-f0a1bee27732"
      },
      "execution_count": 22,
      "outputs": [
        {
          "output_type": "stream",
          "name": "stdout",
          "text": [
            "[32.0, 212.0, -40.0]\n"
          ]
        }
      ]
    },
    {
      "cell_type": "markdown",
      "source": [
        "10. Create a Python program that uses filter() to remove all the vowels from a given string."
      ],
      "metadata": {
        "id": "uCRrZWazaJWY"
      }
    },
    {
      "cell_type": "code",
      "source": [
        "def remove_vowels(s):\n",
        "    return ''.join(filter(lambda ch: ch.lower() not in 'aeiou', s))\n",
        "\n",
        "print(remove_vowels(\"hello world\"))"
      ],
      "metadata": {
        "colab": {
          "base_uri": "https://localhost:8080/"
        },
        "id": "x5ePl6koaPCK",
        "outputId": "86e29b76-e3d1-4be3-8baa-b35c1b1df5f5"
      },
      "execution_count": 23,
      "outputs": [
        {
          "output_type": "stream",
          "name": "stdout",
          "text": [
            "hll wrld\n"
          ]
        }
      ]
    },
    {
      "cell_type": "markdown",
      "source": [
        "11. Write a Python program, which returns a list with 2-tuples. Each tuple consists of the Order Number and the product of the price per item and the quantity. The product should be increased by 10 € if the value of the order is smaller than 100 €.\n",
        "\n",
        "Write a Python program using lambda and map."
      ],
      "metadata": {
        "id": "LlKF6onFaSkk"
      }
    },
    {
      "cell_type": "code",
      "source": [
        "orders = [\n",
        "    (34587, \"Learning Python, Mark Lutz\", 4, 40.95),\n",
        "    (98762, \"Programming Python, Mark Lutz\", 5, 56.80),\n",
        "    (77226, \"Head First Python, Paul Barry\", 3, 32.95),\n",
        "    (88112, \"Einführung in Python3, Bernd Klein\", 3, 24.99),\n",
        "]\n",
        "\n",
        "processed_orders = list(map(lambda order:\n",
        "    (order[0], order[2] * order[3] + (10 if order[2] * order[3] < 100 else 0)), orders))\n",
        "\n",
        "print(processed_orders)"
      ],
      "metadata": {
        "colab": {
          "base_uri": "https://localhost:8080/"
        },
        "id": "8Avrkzaiakx9",
        "outputId": "dd1a33d5-9906-4d65-fce2-4f8f16aacdf6"
      },
      "execution_count": 24,
      "outputs": [
        {
          "output_type": "stream",
          "name": "stdout",
          "text": [
            "[(34587, 163.8), (98762, 284.0), (77226, 108.85000000000001), (88112, 84.97)]\n"
          ]
        }
      ]
    }
  ]
}